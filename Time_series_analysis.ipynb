{
 "cells": [
  {
   "cell_type": "code",
   "execution_count": 1,
   "metadata": {},
   "outputs": [
    {
     "name": "stderr",
     "output_type": "stream",
     "text": [
      "Using TensorFlow backend.\n"
     ]
    }
   ],
   "source": [
    "import pandas as pd\n",
    "from sklearn.metrics import r2_score\n",
    "import matplotlib.pyplot as plt\n",
    "import numpy as np\n",
    "from dateutil import parser\n",
    "import sklearn\n",
    "from datetime import datetime\n",
    "from model_architecture import define_model"
   ]
  },
  {
   "cell_type": "code",
   "execution_count": 2,
   "metadata": {},
   "outputs": [],
   "source": [
    "data = pd.read_csv('./assignment20200701/MD (2010-2020)/MD from 2010 to 2020/AUDUSD.csv')"
   ]
  },
  {
   "cell_type": "code",
   "execution_count": 3,
   "metadata": {},
   "outputs": [
    {
     "data": {
      "text/html": [
       "<div>\n",
       "<style scoped>\n",
       "    .dataframe tbody tr th:only-of-type {\n",
       "        vertical-align: middle;\n",
       "    }\n",
       "\n",
       "    .dataframe tbody tr th {\n",
       "        vertical-align: top;\n",
       "    }\n",
       "\n",
       "    .dataframe thead th {\n",
       "        text-align: right;\n",
       "    }\n",
       "</style>\n",
       "<table border=\"1\" class=\"dataframe\">\n",
       "  <thead>\n",
       "    <tr style=\"text-align: right;\">\n",
       "      <th></th>\n",
       "      <th>Time (UTC)</th>\n",
       "      <th>Open</th>\n",
       "      <th>High</th>\n",
       "      <th>Low</th>\n",
       "      <th>Close</th>\n",
       "      <th>Volume</th>\n",
       "    </tr>\n",
       "  </thead>\n",
       "  <tbody>\n",
       "    <tr>\n",
       "      <td>0</td>\n",
       "      <td>2010.01.01 02:00:00</td>\n",
       "      <td>0.89748</td>\n",
       "      <td>0.89759</td>\n",
       "      <td>0.89741</td>\n",
       "      <td>0.89747</td>\n",
       "      <td>7951.85</td>\n",
       "    </tr>\n",
       "    <tr>\n",
       "      <td>1</td>\n",
       "      <td>2010.01.01 06:00:00</td>\n",
       "      <td>0.89747</td>\n",
       "      <td>0.89763</td>\n",
       "      <td>0.89739</td>\n",
       "      <td>0.89754</td>\n",
       "      <td>18505.45</td>\n",
       "    </tr>\n",
       "    <tr>\n",
       "      <td>2</td>\n",
       "      <td>2010.01.01 10:00:00</td>\n",
       "      <td>0.89755</td>\n",
       "      <td>0.89763</td>\n",
       "      <td>0.89746</td>\n",
       "      <td>0.89750</td>\n",
       "      <td>15265.53</td>\n",
       "    </tr>\n",
       "    <tr>\n",
       "      <td>3</td>\n",
       "      <td>2010.01.01 14:00:00</td>\n",
       "      <td>0.89753</td>\n",
       "      <td>0.89769</td>\n",
       "      <td>0.89746</td>\n",
       "      <td>0.89753</td>\n",
       "      <td>16587.97</td>\n",
       "    </tr>\n",
       "    <tr>\n",
       "      <td>4</td>\n",
       "      <td>2010.01.01 18:00:00</td>\n",
       "      <td>0.89755</td>\n",
       "      <td>0.89765</td>\n",
       "      <td>0.89738</td>\n",
       "      <td>0.89738</td>\n",
       "      <td>7615.19</td>\n",
       "    </tr>\n",
       "  </tbody>\n",
       "</table>\n",
       "</div>"
      ],
      "text/plain": [
       "            Time (UTC)     Open     High      Low    Close   Volume \n",
       "0  2010.01.01 02:00:00  0.89748  0.89759  0.89741  0.89747   7951.85\n",
       "1  2010.01.01 06:00:00  0.89747  0.89763  0.89739  0.89754  18505.45\n",
       "2  2010.01.01 10:00:00  0.89755  0.89763  0.89746  0.89750  15265.53\n",
       "3  2010.01.01 14:00:00  0.89753  0.89769  0.89746  0.89753  16587.97\n",
       "4  2010.01.01 18:00:00  0.89755  0.89765  0.89738  0.89738   7615.19"
      ]
     },
     "execution_count": 3,
     "metadata": {},
     "output_type": "execute_result"
    }
   ],
   "source": [
    "data.head()"
   ]
  },
  {
   "cell_type": "code",
   "execution_count": 4,
   "metadata": {},
   "outputs": [],
   "source": [
    "## change variable type of 'Time (UTC)' from string to datetime\n",
    "data['Time (UTC)'] = data[\"Time (UTC)\"].apply(lambda x: parser.parse(x))"
   ]
  },
  {
   "cell_type": "code",
   "execution_count": 5,
   "metadata": {},
   "outputs": [
    {
     "data": {
      "text/plain": [
       "Time (UTC)    datetime64[ns]\n",
       "Open                 float64\n",
       "High                 float64\n",
       "Low                  float64\n",
       "Close                float64\n",
       "Volume               float64\n",
       "dtype: object"
      ]
     },
     "execution_count": 5,
     "metadata": {},
     "output_type": "execute_result"
    }
   ],
   "source": [
    "data.dtypes"
   ]
  },
  {
   "cell_type": "code",
   "execution_count": 6,
   "metadata": {},
   "outputs": [],
   "source": [
    "def directional_accuracy(y_test,model_output):\n",
    "    output=[]\n",
    "    for i in range(1,len(model_output)):\n",
    "        if np.sign(y_test[i]-y_test[i-1])==0:\n",
    "            output.append(1.000)\n",
    "        else:\n",
    "            output.append((np.sign(model_output[i]-y_test[i-1])==np.sign(y_test[i]-y_test[i-1])).astype(int))\n",
    "    accuracy = np.mean(np.array(output))\n",
    "    print('directional accuracy  = ',accuracy)\n",
    "    \n",
    "def percentage_Absolute_Error(y_test,model_output):\n",
    "    positive=[]\n",
    "    negative=[]\n",
    "    for i in range(1,len(model_output)):\n",
    "        if np.sign(y_test[i]-y_test[i-1])==0:\n",
    "            positive.append(0)\n",
    "        elif (model_output[i]- y_test[i]) >0 :\n",
    "            positive.append((model_output[i]- y_test[i])/np.abs(y_test[i-1]-y_test[i]))\n",
    "        else:\n",
    "            negative.append((model_output[i]- y_test[i])/np.abs(y_test[i-1]-y_test[i]))\n",
    "    positive_perc_abs_error = np.mean(np.array(positive))\n",
    "    negative_perc_abs_error = np.mean(np.array(negative))\n",
    "    print('positive percentage Absolute Error = ',positive_perc_abs_error)\n",
    "    print('negative percentage Absolute Error = ',negative_perc_abs_error)"
   ]
  },
  {
   "cell_type": "markdown",
   "metadata": {},
   "source": [
    "### feature engenering"
   ]
  },
  {
   "cell_type": "code",
   "execution_count": 7,
   "metadata": {},
   "outputs": [],
   "source": [
    "## extract hour from the timestep\n",
    "def hour(x):\n",
    "    d = datetime.strptime(str(x), '%Y-%m-%d %H:%M:%S')\n",
    "    return d.hour\n",
    "\n",
    "data['Hour'] = data[\"Time (UTC)\"].apply(lambda x: hour(x))\n",
    "\n",
    "\n",
    "## extract weekday from the timestep variable\n",
    "def weekday(x):\n",
    "    d = datetime.strptime(str(x), '%Y-%m-%d %H:%M:%S').weekday()\n",
    "    return d\n",
    "data['weekday'] = data[\"Time (UTC)\"].apply(lambda x: weekday(x))"
   ]
  },
  {
   "cell_type": "code",
   "execution_count": 8,
   "metadata": {},
   "outputs": [
    {
     "data": {
      "text/html": [
       "<div>\n",
       "<style scoped>\n",
       "    .dataframe tbody tr th:only-of-type {\n",
       "        vertical-align: middle;\n",
       "    }\n",
       "\n",
       "    .dataframe tbody tr th {\n",
       "        vertical-align: top;\n",
       "    }\n",
       "\n",
       "    .dataframe thead th {\n",
       "        text-align: right;\n",
       "    }\n",
       "</style>\n",
       "<table border=\"1\" class=\"dataframe\">\n",
       "  <thead>\n",
       "    <tr style=\"text-align: right;\">\n",
       "      <th></th>\n",
       "      <th>Open</th>\n",
       "      <th>High</th>\n",
       "      <th>Low</th>\n",
       "      <th>Close</th>\n",
       "      <th>Volume</th>\n",
       "      <th>Hour</th>\n",
       "      <th>weekday</th>\n",
       "    </tr>\n",
       "  </thead>\n",
       "  <tbody>\n",
       "    <tr>\n",
       "      <td>0</td>\n",
       "      <td>0.89748</td>\n",
       "      <td>0.89759</td>\n",
       "      <td>0.89741</td>\n",
       "      <td>0.89747</td>\n",
       "      <td>7951.85</td>\n",
       "      <td>2</td>\n",
       "      <td>4</td>\n",
       "    </tr>\n",
       "    <tr>\n",
       "      <td>1</td>\n",
       "      <td>0.89747</td>\n",
       "      <td>0.89763</td>\n",
       "      <td>0.89739</td>\n",
       "      <td>0.89754</td>\n",
       "      <td>18505.45</td>\n",
       "      <td>6</td>\n",
       "      <td>4</td>\n",
       "    </tr>\n",
       "    <tr>\n",
       "      <td>2</td>\n",
       "      <td>0.89755</td>\n",
       "      <td>0.89763</td>\n",
       "      <td>0.89746</td>\n",
       "      <td>0.89750</td>\n",
       "      <td>15265.53</td>\n",
       "      <td>10</td>\n",
       "      <td>4</td>\n",
       "    </tr>\n",
       "    <tr>\n",
       "      <td>3</td>\n",
       "      <td>0.89753</td>\n",
       "      <td>0.89769</td>\n",
       "      <td>0.89746</td>\n",
       "      <td>0.89753</td>\n",
       "      <td>16587.97</td>\n",
       "      <td>14</td>\n",
       "      <td>4</td>\n",
       "    </tr>\n",
       "    <tr>\n",
       "      <td>4</td>\n",
       "      <td>0.89755</td>\n",
       "      <td>0.89765</td>\n",
       "      <td>0.89738</td>\n",
       "      <td>0.89738</td>\n",
       "      <td>7615.19</td>\n",
       "      <td>18</td>\n",
       "      <td>4</td>\n",
       "    </tr>\n",
       "  </tbody>\n",
       "</table>\n",
       "</div>"
      ],
      "text/plain": [
       "      Open     High      Low    Close   Volume   Hour  weekday\n",
       "0  0.89748  0.89759  0.89741  0.89747   7951.85     2        4\n",
       "1  0.89747  0.89763  0.89739  0.89754  18505.45     6        4\n",
       "2  0.89755  0.89763  0.89746  0.89750  15265.53    10        4\n",
       "3  0.89753  0.89769  0.89746  0.89753  16587.97    14        4\n",
       "4  0.89755  0.89765  0.89738  0.89738   7615.19    18        4"
      ]
     },
     "execution_count": 8,
     "metadata": {},
     "output_type": "execute_result"
    }
   ],
   "source": [
    "## drop time variable\n",
    "data = data.drop(['Time (UTC)'],axis=1)\n",
    "data.head()"
   ]
  },
  {
   "cell_type": "code",
   "execution_count": 9,
   "metadata": {},
   "outputs": [
    {
     "data": {
      "text/html": [
       "<div>\n",
       "<style scoped>\n",
       "    .dataframe tbody tr th:only-of-type {\n",
       "        vertical-align: middle;\n",
       "    }\n",
       "\n",
       "    .dataframe tbody tr th {\n",
       "        vertical-align: top;\n",
       "    }\n",
       "\n",
       "    .dataframe thead th {\n",
       "        text-align: right;\n",
       "    }\n",
       "</style>\n",
       "<table border=\"1\" class=\"dataframe\">\n",
       "  <thead>\n",
       "    <tr style=\"text-align: right;\">\n",
       "      <th></th>\n",
       "      <th>Open</th>\n",
       "      <th>Low</th>\n",
       "      <th>Close</th>\n",
       "      <th>Volume</th>\n",
       "      <th>Hour</th>\n",
       "      <th>weekday</th>\n",
       "      <th>High</th>\n",
       "    </tr>\n",
       "  </thead>\n",
       "  <tbody>\n",
       "    <tr>\n",
       "      <td>0</td>\n",
       "      <td>0.89748</td>\n",
       "      <td>0.89741</td>\n",
       "      <td>0.89747</td>\n",
       "      <td>7951.85</td>\n",
       "      <td>2</td>\n",
       "      <td>4</td>\n",
       "      <td>0.89759</td>\n",
       "    </tr>\n",
       "    <tr>\n",
       "      <td>1</td>\n",
       "      <td>0.89747</td>\n",
       "      <td>0.89739</td>\n",
       "      <td>0.89754</td>\n",
       "      <td>18505.45</td>\n",
       "      <td>6</td>\n",
       "      <td>4</td>\n",
       "      <td>0.89763</td>\n",
       "    </tr>\n",
       "    <tr>\n",
       "      <td>2</td>\n",
       "      <td>0.89755</td>\n",
       "      <td>0.89746</td>\n",
       "      <td>0.89750</td>\n",
       "      <td>15265.53</td>\n",
       "      <td>10</td>\n",
       "      <td>4</td>\n",
       "      <td>0.89763</td>\n",
       "    </tr>\n",
       "    <tr>\n",
       "      <td>3</td>\n",
       "      <td>0.89753</td>\n",
       "      <td>0.89746</td>\n",
       "      <td>0.89753</td>\n",
       "      <td>16587.97</td>\n",
       "      <td>14</td>\n",
       "      <td>4</td>\n",
       "      <td>0.89769</td>\n",
       "    </tr>\n",
       "    <tr>\n",
       "      <td>4</td>\n",
       "      <td>0.89755</td>\n",
       "      <td>0.89738</td>\n",
       "      <td>0.89738</td>\n",
       "      <td>7615.19</td>\n",
       "      <td>18</td>\n",
       "      <td>4</td>\n",
       "      <td>0.89765</td>\n",
       "    </tr>\n",
       "  </tbody>\n",
       "</table>\n",
       "</div>"
      ],
      "text/plain": [
       "      Open      Low    Close   Volume   Hour  weekday     High\n",
       "0  0.89748  0.89741  0.89747   7951.85     2        4  0.89759\n",
       "1  0.89747  0.89739  0.89754  18505.45     6        4  0.89763\n",
       "2  0.89755  0.89746  0.89750  15265.53    10        4  0.89763\n",
       "3  0.89753  0.89746  0.89753  16587.97    14        4  0.89769\n",
       "4  0.89755  0.89738  0.89738   7615.19    18        4  0.89765"
      ]
     },
     "execution_count": 9,
     "metadata": {},
     "output_type": "execute_result"
    }
   ],
   "source": [
    "## shift target variable at the last \n",
    "data2=data['High']\n",
    "data = data.drop(['High'],axis=1)\n",
    "data = pd.concat([data,data2],axis=1)\n",
    "data.head()"
   ]
  },
  {
   "cell_type": "code",
   "execution_count": 10,
   "metadata": {},
   "outputs": [],
   "source": [
    "def load_data(data):\n",
    "    data = data.values\n",
    "    train = data[:13200,:]\n",
    "    test = data[13200:,:]\n",
    "\n",
    "    ## split into input and output\n",
    "    X_train, y_train = train[:,:-1] , train[:,-1]\n",
    "    X_test, y_test = test[:,:-1] , test[:,-1]\n",
    "    \n",
    "    ## reshape data\n",
    "    X_train = X_train.reshape((X_train.shape[0], X_train.shape[1], 1))\n",
    "    X_test = X_test.reshape((X_test.shape[0], X_test.shape[1], 1))\n",
    "    \n",
    "    print(X_train.shape, y_train.shape, X_test.shape, y_test.shape)    \n",
    "    return X_train, y_train, X_test, y_test"
   ]
  },
  {
   "cell_type": "code",
   "execution_count": 12,
   "metadata": {},
   "outputs": [
    {
     "name": "stdout",
     "output_type": "stream",
     "text": [
      "(13200, 6, 1) (13200,) (2700, 6, 1) (2700,)\n"
     ]
    }
   ],
   "source": [
    "X_train, y_train, X_test, y_test = load_data(data)"
   ]
  },
  {
   "cell_type": "markdown",
   "metadata": {},
   "source": [
    "### model training with mape loss "
   ]
  },
  {
   "cell_type": "code",
   "execution_count": 13,
   "metadata": {},
   "outputs": [],
   "source": [
    "from keras.callbacks import EarlyStopping\n",
    "from keras.callbacks import ModelCheckpoint\n",
    "from keras.callbacks import ReduceLROnPlateau\n",
    "from keras.models import load_model"
   ]
  },
  {
   "cell_type": "code",
   "execution_count": 48,
   "metadata": {
    "scrolled": true
   },
   "outputs": [
    {
     "name": "stdout",
     "output_type": "stream",
     "text": [
      "Model: \"model_8\"\n",
      "__________________________________________________________________________________________________\n",
      "Layer (type)                    Output Shape         Param #     Connected to                     \n",
      "==================================================================================================\n",
      "input_22 (InputLayer)           (20, 6, 1)           0                                            \n",
      "__________________________________________________________________________________________________\n",
      "conv1d_22 (Conv1D)              (20, 6, 5)           15          input_22[0][0]                   \n",
      "__________________________________________________________________________________________________\n",
      "max_pooling1d_22 (MaxPooling1D) (20, 3, 5)           0           conv1d_22[0][0]                  \n",
      "__________________________________________________________________________________________________\n",
      "dropout_22 (Dropout)            (20, 3, 5)           0           max_pooling1d_22[0][0]           \n",
      "__________________________________________________________________________________________________\n",
      "input_23 (InputLayer)           (20, 6, 1)           0                                            \n",
      "__________________________________________________________________________________________________\n",
      "conv1d_23 (Conv1D)              (20, 3, 5)           55          dropout_22[0][0]                 \n",
      "__________________________________________________________________________________________________\n",
      "conv1d_24 (Conv1D)              (20, 6, 5)           15          input_23[0][0]                   \n",
      "__________________________________________________________________________________________________\n",
      "max_pooling1d_23 (MaxPooling1D) (20, 1, 5)           0           conv1d_23[0][0]                  \n",
      "__________________________________________________________________________________________________\n",
      "max_pooling1d_24 (MaxPooling1D) (20, 3, 5)           0           conv1d_24[0][0]                  \n",
      "__________________________________________________________________________________________________\n",
      "dropout_23 (Dropout)            (20, 1, 5)           0           max_pooling1d_23[0][0]           \n",
      "__________________________________________________________________________________________________\n",
      "dropout_24 (Dropout)            (20, 3, 5)           0           max_pooling1d_24[0][0]           \n",
      "__________________________________________________________________________________________________\n",
      "input_24 (InputLayer)           (20, 6, 1)           0                                            \n",
      "__________________________________________________________________________________________________\n",
      "lstm_22 (LSTM)                  (20, 1, 384)         599040      dropout_23[0][0]                 \n",
      "__________________________________________________________________________________________________\n",
      "lstm_23 (LSTM)                  (20, 3, 128)         68608       dropout_24[0][0]                 \n",
      "__________________________________________________________________________________________________\n",
      "lstm_24 (LSTM)                  (20, 6, 64)          16896       input_24[0][0]                   \n",
      "__________________________________________________________________________________________________\n",
      "dense_36 (Dense)                (20, 1, 100)         38500       lstm_22[0][0]                    \n",
      "__________________________________________________________________________________________________\n",
      "dense_37 (Dense)                (20, 3, 50)          6450        lstm_23[0][0]                    \n",
      "__________________________________________________________________________________________________\n",
      "dense_38 (Dense)                (20, 6, 25)          1625        lstm_24[0][0]                    \n",
      "__________________________________________________________________________________________________\n",
      "flatten_22 (Flatten)            (20, 100)            0           dense_36[0][0]                   \n",
      "__________________________________________________________________________________________________\n",
      "flatten_23 (Flatten)            (20, 150)            0           dense_37[0][0]                   \n",
      "__________________________________________________________________________________________________\n",
      "flatten_24 (Flatten)            (20, 150)            0           dense_38[0][0]                   \n",
      "__________________________________________________________________________________________________\n",
      "concatenate_8 (Concatenate)     (20, 400)            0           flatten_22[0][0]                 \n",
      "                                                                 flatten_23[0][0]                 \n",
      "                                                                 flatten_24[0][0]                 \n",
      "__________________________________________________________________________________________________\n",
      "dense_39 (Dense)                (20, 500)            200500      concatenate_8[0][0]              \n",
      "__________________________________________________________________________________________________\n",
      "dense_40 (Dense)                (20, 1)              501         dense_39[0][0]                   \n",
      "==================================================================================================\n",
      "Total params: 932,205\n",
      "Trainable params: 932,205\n",
      "Non-trainable params: 0\n",
      "__________________________________________________________________________________________________\n"
     ]
    }
   ],
   "source": [
    "model = define_model(X_train,loss='mape')\n",
    "model.summary()"
   ]
  },
  {
   "cell_type": "code",
   "execution_count": 49,
   "metadata": {
    "scrolled": true
   },
   "outputs": [
    {
     "name": "stdout",
     "output_type": "stream",
     "text": [
      "Train on 13200 samples, validate on 2700 samples\n",
      "Epoch 1/200\n",
      "13200/13200 [==============================] - 35s 3ms/step - loss: 10.0380 - val_loss: 19.9644\n",
      "Epoch 2/200\n",
      "13200/13200 [==============================] - 29s 2ms/step - loss: 2.5813 - val_loss: 0.8481\n",
      "Epoch 3/200\n",
      "13200/13200 [==============================] - 29s 2ms/step - loss: 1.5327 - val_loss: 3.8235\n",
      "Epoch 4/200\n",
      "13200/13200 [==============================] - 30s 2ms/step - loss: 1.8249 - val_loss: 2.2088\n",
      "Epoch 5/200\n",
      "13200/13200 [==============================] - 30s 2ms/step - loss: 1.3550 - val_loss: 1.3640oss: - ETA: 0s -\n",
      "Epoch 6/200\n",
      "13200/13200 [==============================] - 29s 2ms/step - loss: 0.9793 - val_loss: 1.3532\n",
      "Epoch 7/200\n",
      "13200/13200 [==============================] - 30s 2ms/step - loss: 0.9649 - val_loss: 0.5575\n",
      "Epoch 8/200\n",
      "13200/13200 [==============================] - 30s 2ms/step - loss: 1.0003 - val_loss: 1.0592\n",
      "Epoch 9/200\n",
      "13200/13200 [==============================] - 29s 2ms/step - loss: 0.9176 - val_loss: 0.3581\n",
      "Epoch 10/200\n",
      "13200/13200 [==============================] - 29s 2ms/step - loss: 0.6927 - val_loss: 1.2550\n",
      "Epoch 11/200\n",
      "13200/13200 [==============================] - 30s 2ms/step - loss: 0.9384 - val_loss: 6.7621\n",
      "Epoch 12/200\n",
      "13200/13200 [==============================] - 30s 2ms/step - loss: 0.8783 - val_loss: 0.5998\n",
      "Epoch 13/200\n",
      "13200/13200 [==============================] - 30s 2ms/step - loss: 0.8753 - val_loss: 0.4371\n",
      "Epoch 14/200\n",
      "13200/13200 [==============================] - 29s 2ms/step - loss: 0.7770 - val_loss: 0.3339\n",
      "Epoch 15/200\n",
      "13200/13200 [==============================] - 32s 2ms/step - loss: 0.9058 - val_loss: 0.4452\n",
      "Epoch 16/200\n",
      "13200/13200 [==============================] - 31s 2ms/step - loss: 0.7957 - val_loss: 1.2835\n",
      "Epoch 17/200\n",
      "13200/13200 [==============================] - 32s 2ms/step - loss: 0.6861 - val_loss: 1.5642\n",
      "Epoch 18/200\n",
      "13200/13200 [==============================] - 31s 2ms/step - loss: 0.5997 - val_loss: 1.0025\n",
      "Epoch 19/200\n",
      "13200/13200 [==============================] - 32s 2ms/step - loss: 0.7189 - val_loss: 0.3340\n",
      "\n",
      "Epoch 00019: ReduceLROnPlateau reducing learning rate to 0.00010000000474974513.\n",
      "Epoch 20/200\n",
      "13200/13200 [==============================] - 31s 2ms/step - loss: 0.1842 - val_loss: 0.1765\n",
      "Epoch 21/200\n",
      "13200/13200 [==============================] - 31s 2ms/step - loss: 0.1799 - val_loss: 0.4471\n",
      "Epoch 22/200\n",
      "13200/13200 [==============================] - 30s 2ms/step - loss: 0.1761 - val_loss: 0.1973\n",
      "Epoch 23/200\n",
      "13200/13200 [==============================] - 31s 2ms/step - loss: 0.1755 - val_loss: 0.3587\n",
      "Epoch 24/200\n",
      "13200/13200 [==============================] - 32s 2ms/step - loss: 0.1691 - val_loss: 0.2392\n",
      "Epoch 25/200\n",
      "13200/13200 [==============================] - 30s 2ms/step - loss: 0.1763 - val_loss: 0.1776\n",
      "\n",
      "Epoch 00025: ReduceLROnPlateau reducing learning rate to 1.0000000474974514e-05.\n",
      "Epoch 26/200\n",
      "13200/13200 [==============================] - 29s 2ms/step - loss: 0.1395 - val_loss: 0.2266\n",
      "Epoch 27/200\n",
      "13200/13200 [==============================] - 31s 2ms/step - loss: 0.1392 - val_loss: 0.2080\n",
      "Restoring model weights from the end of the best epoch\n",
      "Epoch 00027: early stopping\n"
     ]
    },
    {
     "data": {
      "text/plain": [
       "<keras.callbacks.callbacks.History at 0x2865bd4f2c8>"
      ]
     },
     "execution_count": 49,
     "metadata": {},
     "output_type": "execute_result"
    }
   ],
   "source": [
    "earlystopping = EarlyStopping(monitor='val_loss',min_delta=0,patience=7,verbose=1,mode='min',restore_best_weights=True)\n",
    "mcp_save = ModelCheckpoint('.mape_mdl_wts.hdf5', save_best_only=True, monitor='val_loss', mode='min')\n",
    "reduce_lr_loss = ReduceLROnPlateau(monitor='val_loss', factor=0.1, patience=5, verbose=1, mode='min')\n",
    "\n",
    "### train the model on train data with adam optimiser and mape loss function\n",
    "model.fit([X_train,X_train,X_train], y_train, validation_data=([X_test,X_test,X_test],y_test), epochs=200, batch_size=20, callbacks=[earlystopping, mcp_save, reduce_lr_loss])"
   ]
  },
  {
   "cell_type": "code",
   "execution_count": 43,
   "metadata": {},
   "outputs": [
    {
     "name": "stdout",
     "output_type": "stream",
     "text": [
      "R^2 Score of model =  0.99459696799173\n"
     ]
    }
   ],
   "source": [
    "## predict for the test data\n",
    "model_output = model.predict([X_test,X_test,X_test],batch_size=20)\n",
    "\n",
    "model_score = r2_score(y_test,model_output)\n",
    "print(\"R^2 Score of model = \",model_score)"
   ]
  },
  {
   "cell_type": "code",
   "execution_count": 44,
   "metadata": {},
   "outputs": [
    {
     "data": {
      "image/png": "[encoded data removed]",
      "text/plain": [
       "<Figure size 1152x288 with 1 Axes>"
      ]
     },
     "metadata": {
      "needs_background": "light"
     },
     "output_type": "display_data"
    }
   ],
   "source": [
    "def plot_predictions(test, predicted, title):\n",
    "    plt.figure(figsize=(16,4))\n",
    "    plt.plot(test, color='blue',label='Actual High price')\n",
    "    plt.plot(predicted, alpha=0.7, color='orange',label='Predicted High price')\n",
    "    plt.title(title)\n",
    "    plt.xlabel('Time')\n",
    "    plt.ylabel('Normalized High Price')\n",
    "    plt.legend()\n",
    "    plt.show()\n",
    "    \n",
    "plot_predictions(y_test, model_output, \"Predictions made by hybride deep learning model\")"
   ]
  },
  {
   "cell_type": "code",
   "execution_count": 45,
   "metadata": {},
   "outputs": [
    {
     "name": "stdout",
     "output_type": "stream",
     "text": [
      "directional accuracy  =  [0.64912931]\n",
      "positive percentage Absolute Error =  [7.718214]\n",
      "negative percentage Absolute Error =  -3.0911863\n"
     ]
    }
   ],
   "source": [
    "model_output = np.round(model_output,4)\n",
    "\n",
    "## directional accuracy\n",
    "directional_accuracy(y_test,model_output)\n",
    "\n",
    "### percentage absolute error\n",
    "percentage_Absolute_Error(y_test,model_output)"
   ]
  },
  {
   "cell_type": "code",
   "execution_count": 19,
   "metadata": {},
   "outputs": [],
   "source": [
    "model.save('./mape_final_model_v1.h5')"
   ]
  },
  {
   "cell_type": "markdown",
   "metadata": {},
   "source": [
    "### model training with mse loss "
   ]
  },
  {
   "cell_type": "code",
   "execution_count": 20,
   "metadata": {
    "scrolled": true
   },
   "outputs": [
    {
     "name": "stdout",
     "output_type": "stream",
     "text": [
      "Model: \"model_2\"\n",
      "__________________________________________________________________________________________________\n",
      "Layer (type)                    Output Shape         Param #     Connected to                     \n",
      "==================================================================================================\n",
      "input_4 (InputLayer)            (20, 6, 1)           0                                            \n",
      "__________________________________________________________________________________________________\n",
      "conv1d_4 (Conv1D)               (20, 6, 5)           15          input_4[0][0]                    \n",
      "__________________________________________________________________________________________________\n",
      "max_pooling1d_4 (MaxPooling1D)  (20, 3, 5)           0           conv1d_4[0][0]                   \n",
      "__________________________________________________________________________________________________\n",
      "dropout_4 (Dropout)             (20, 3, 5)           0           max_pooling1d_4[0][0]            \n",
      "__________________________________________________________________________________________________\n",
      "input_5 (InputLayer)            (20, 6, 1)           0                                            \n",
      "__________________________________________________________________________________________________\n",
      "conv1d_5 (Conv1D)               (20, 3, 5)           55          dropout_4[0][0]                  \n",
      "__________________________________________________________________________________________________\n",
      "conv1d_6 (Conv1D)               (20, 6, 5)           15          input_5[0][0]                    \n",
      "__________________________________________________________________________________________________\n",
      "max_pooling1d_5 (MaxPooling1D)  (20, 1, 5)           0           conv1d_5[0][0]                   \n",
      "__________________________________________________________________________________________________\n",
      "max_pooling1d_6 (MaxPooling1D)  (20, 3, 5)           0           conv1d_6[0][0]                   \n",
      "__________________________________________________________________________________________________\n",
      "dropout_5 (Dropout)             (20, 1, 5)           0           max_pooling1d_5[0][0]            \n",
      "__________________________________________________________________________________________________\n",
      "dropout_6 (Dropout)             (20, 3, 5)           0           max_pooling1d_6[0][0]            \n",
      "__________________________________________________________________________________________________\n",
      "input_6 (InputLayer)            (20, 6, 1)           0                                            \n",
      "__________________________________________________________________________________________________\n",
      "lstm_4 (LSTM)                   (20, 1, 384)         599040      dropout_5[0][0]                  \n",
      "__________________________________________________________________________________________________\n",
      "lstm_5 (LSTM)                   (20, 3, 128)         68608       dropout_6[0][0]                  \n",
      "__________________________________________________________________________________________________\n",
      "lstm_6 (LSTM)                   (20, 6, 64)          16896       input_6[0][0]                    \n",
      "__________________________________________________________________________________________________\n",
      "dense_6 (Dense)                 (20, 1, 100)         38500       lstm_4[0][0]                     \n",
      "__________________________________________________________________________________________________\n",
      "dense_7 (Dense)                 (20, 3, 50)          6450        lstm_5[0][0]                     \n",
      "__________________________________________________________________________________________________\n",
      "dense_8 (Dense)                 (20, 6, 25)          1625        lstm_6[0][0]                     \n",
      "__________________________________________________________________________________________________\n",
      "flatten_4 (Flatten)             (20, 100)            0           dense_6[0][0]                    \n",
      "__________________________________________________________________________________________________\n",
      "flatten_5 (Flatten)             (20, 150)            0           dense_7[0][0]                    \n",
      "__________________________________________________________________________________________________\n",
      "flatten_6 (Flatten)             (20, 150)            0           dense_8[0][0]                    \n",
      "__________________________________________________________________________________________________\n",
      "concatenate_2 (Concatenate)     (20, 400)            0           flatten_4[0][0]                  \n",
      "                                                                 flatten_5[0][0]                  \n",
      "                                                                 flatten_6[0][0]                  \n",
      "__________________________________________________________________________________________________\n",
      "dense_9 (Dense)                 (20, 500)            200500      concatenate_2[0][0]              \n",
      "__________________________________________________________________________________________________\n",
      "dense_10 (Dense)                (20, 1)              501         dense_9[0][0]                    \n",
      "==================================================================================================\n",
      "Total params: 932,205\n",
      "Trainable params: 932,205\n",
      "Non-trainable params: 0\n",
      "__________________________________________________________________________________________________\n"
     ]
    }
   ],
   "source": [
    "model = define_model(X_train,loss='mse')\n",
    "model.summary()"
   ]
  },
  {
   "cell_type": "code",
   "execution_count": 21,
   "metadata": {
    "scrolled": true
   },
   "outputs": [
    {
     "name": "stdout",
     "output_type": "stream",
     "text": [
      "Train on 13200 samples, validate on 2700 samples\n",
      "Epoch 1/50\n",
      "13200/13200 [==============================] - 33s 3ms/step - loss: 0.0120 - val_loss: 1.5714e-04\n",
      "Epoch 2/50\n",
      "13200/13200 [==============================] - 27s 2ms/step - loss: 3.6003e-04 - val_loss: 4.2133e-04\n",
      "Epoch 3/50\n",
      "13200/13200 [==============================] - 27s 2ms/step - loss: 2.0222e-04 - val_loss: 1.7056e-04\n",
      "Epoch 4/50\n",
      "13200/13200 [==============================] - 27s 2ms/step - loss: 1.7583e-04 - val_loss: 0.0011\n",
      "Epoch 5/50\n",
      "13200/13200 [==============================] - 28s 2ms/step - loss: 1.5036e-04 - val_loss: 1.8746e-04\n",
      "Epoch 6/50\n",
      "13200/13200 [==============================] - 29s 2ms/step - loss: 6.7360e-05 - val_loss: 4.3143e-04\n",
      "\n",
      "Epoch 00006: ReduceLROnPlateau reducing learning rate to 0.00010000000474974513.\n",
      "Epoch 7/50\n",
      "13200/13200 [==============================] - 30s 2ms/step - loss: 1.4596e-05 - val_loss: 5.0853e-06\n",
      "Epoch 8/50\n",
      "13200/13200 [==============================] - 28s 2ms/step - loss: 1.0343e-05 - val_loss: 6.6054e-06\n",
      "Epoch 9/50\n",
      "13200/13200 [==============================] - 28s 2ms/step - loss: 9.8809e-06 - val_loss: 5.0183e-06\n",
      "Epoch 10/50\n",
      "13200/13200 [==============================] - 28s 2ms/step - loss: 9.1189e-06 - val_loss: 8.7848e-06\n",
      "Epoch 11/50\n",
      "13200/13200 [==============================] - 28s 2ms/step - loss: 1.0768e-05 - val_loss: 6.0600e-06\n",
      "Epoch 12/50\n",
      "13200/13200 [==============================] - 28s 2ms/step - loss: 1.0099e-05 - val_loss: 1.1990e-05\n",
      "\n",
      "Epoch 00012: ReduceLROnPlateau reducing learning rate to 1.0000000474974514e-05.\n",
      "Epoch 13/50\n",
      "13200/13200 [==============================] - 28s 2ms/step - loss: 6.0274e-06 - val_loss: 3.1418e-06\n",
      "Epoch 14/50\n",
      "13200/13200 [==============================] - 28s 2ms/step - loss: 7.6968e-06 - val_loss: 3.3464e-06\n",
      "Epoch 15/50\n",
      "13200/13200 [==============================] - 28s 2ms/step - loss: 6.2524e-06 - val_loss: 6.7284e-06\n",
      "Epoch 16/50\n",
      "13200/13200 [==============================] - 29s 2ms/step - loss: 6.1946e-06 - val_loss: 4.3767e-06\n",
      "Epoch 17/50\n",
      "13200/13200 [==============================] - 27s 2ms/step - loss: 5.9224e-06 - val_loss: 6.8951e-06\n",
      "\n",
      "Epoch 00017: ReduceLROnPlateau reducing learning rate to 1.0000000656873453e-06.\n",
      "Epoch 18/50\n",
      "13200/13200 [==============================] - 28s 2ms/step - loss: 5.6753e-06 - val_loss: 3.0607e-06\n",
      "Epoch 19/50\n",
      "13200/13200 [==============================] - 28s 2ms/step - loss: 5.7391e-06 - val_loss: 3.7289e-06\n",
      "Epoch 20/50\n",
      "13200/13200 [==============================] - 28s 2ms/step - loss: 5.7887e-06 - val_loss: 4.6725e-06\n",
      "Epoch 21/50\n",
      "13200/13200 [==============================] - 28s 2ms/step - loss: 5.9108e-06 - val_loss: 3.1940e-06\n",
      "Epoch 22/50\n",
      "13200/13200 [==============================] - 28s 2ms/step - loss: 5.4577e-06 - val_loss: 3.3937e-06\n",
      "\n",
      "Epoch 00022: ReduceLROnPlateau reducing learning rate to 1.0000001111620805e-07.\n",
      "Epoch 23/50\n",
      "13200/13200 [==============================] - 29s 2ms/step - loss: 5.4197e-06 - val_loss: 4.0320e-06\n",
      "Epoch 24/50\n",
      "13200/13200 [==============================] - 28s 2ms/step - loss: 5.3827e-06 - val_loss: 3.7376e-06\n",
      "Epoch 25/50\n",
      "13200/13200 [==============================] - 28s 2ms/step - loss: 5.7725e-06 - val_loss: 3.9355e-06\n",
      "Restoring model weights from the end of the best epoch\n",
      "Epoch 00025: early stopping\n"
     ]
    },
    {
     "data": {
      "text/plain": [
       "<keras.callbacks.callbacks.History at 0x286324fb308>"
      ]
     },
     "execution_count": 21,
     "metadata": {},
     "output_type": "execute_result"
    }
   ],
   "source": [
    "earlystopping = EarlyStopping(monitor='val_loss',min_delta=0,patience=7,verbose=1,mode='min',restore_best_weights=True)\n",
    "mcp_save = ModelCheckpoint('.mse_mdl_wts.hdf5', save_best_only=True, monitor='val_loss', mode='min')\n",
    "reduce_lr_loss = ReduceLROnPlateau(monitor='val_loss', factor=0.1, patience=5, verbose=1, mode='min')\n",
    "\n",
    "### train the model on train data with adam optimiser and mape loss function\n",
    "model.fit([X_train,X_train,X_train], y_train, validation_data=([X_test,X_test,X_test],y_test), epochs=50, batch_size=20, callbacks=[earlystopping, mcp_save, reduce_lr_loss])"
   ]
  },
  {
   "cell_type": "code",
   "execution_count": 22,
   "metadata": {},
   "outputs": [
    {
     "name": "stdout",
     "output_type": "stream",
     "text": [
      "R^2 Score of model =  0.9929618860639031\n"
     ]
    }
   ],
   "source": [
    "## predict for the test data\n",
    "model_output = model.predict([X_test,X_test,X_test],batch_size=20)\n",
    "\n",
    "model_score = r2_score(y_test,model_output)\n",
    "print(\"R^2 Score of model = \",model_score) "
   ]
  },
  {
   "cell_type": "code",
   "execution_count": 23,
   "metadata": {},
   "outputs": [
    {
     "data": {
      "image/png": "[encoded data removed]",
      "text/plain": [
       "<Figure size 1152x288 with 1 Axes>"
      ]
     },
     "metadata": {
      "needs_background": "light"
     },
     "output_type": "display_data"
    }
   ],
   "source": [
    "def plot_predictions(test, predicted, title):\n",
    "    plt.figure(figsize=(16,4))\n",
    "    plt.plot(test, color='blue',label='Actual High price')\n",
    "    plt.plot(predicted, alpha=0.7, color='orange',label='Predicted High price')\n",
    "    plt.title(title)\n",
    "    plt.xlabel('Time')\n",
    "    plt.ylabel('Normalized High Price')\n",
    "    plt.legend()\n",
    "    plt.show()\n",
    "    \n",
    "plot_predictions(y_test, model_output, \"Predictions made by hybride deep learning model\")"
   ]
  },
  {
   "cell_type": "code",
   "execution_count": 24,
   "metadata": {},
   "outputs": [
    {
     "name": "stdout",
     "output_type": "stream",
     "text": [
      "directional accuracy  =  [0.6683957]\n",
      "positive percentage Absolute Error =  [8.181583]\n",
      "negative percentage Absolute Error =  -5.124109\n"
     ]
    }
   ],
   "source": [
    "model_output = np.round(model_output,4)\n",
    "\n",
    "## directional accuracy\n",
    "directional_accuracy(y_test,model_output)\n",
    "\n",
    "### percentage absolute error\n",
    "percentage_Absolute_Error(y_test,model_output)"
   ]
  },
  {
   "cell_type": "code",
   "execution_count": 26,
   "metadata": {},
   "outputs": [],
   "source": [
    "model.save('./mse_final_model_v1.h5')"
   ]
  },
  {
   "cell_type": "code",
   "execution_count": null,
   "metadata": {},
   "outputs": [],
   "source": []
  }
 ],
 "metadata": {
  "kernelspec": {
   "display_name": "Python 3",
   "language": "python",
   "name": "python3"
  },
  "language_info": {
   "codemirror_mode": {
    "name": "ipython",
    "version": 3
   },
   "file_extension": ".py",
   "mimetype": "text/x-python",
   "name": "python",
   "nbconvert_exporter": "python",
   "pygments_lexer": "ipython3",
   "version": "3.7.4"
  }
 },
 "nbformat": 4,
 "nbformat_minor": 2
}
